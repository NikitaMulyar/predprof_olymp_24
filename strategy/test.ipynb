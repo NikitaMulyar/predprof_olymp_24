{
 "cells": [
  {
   "cell_type": "code",
   "execution_count": 18,
   "id": "initial_id",
   "metadata": {
    "collapsed": true,
    "ExecuteTime": {
     "end_time": "2024-01-27T13:45:29.815646700Z",
     "start_time": "2024-01-27T13:45:29.792189100Z"
    }
   },
   "outputs": [
    {
     "data": {
      "text/plain": "             open  close   high    low\nDate                                  \n2016-07-01  2.598  2.604  2.619  2.510\n2016-07-04  2.604  2.608  2.619  2.600\n2016-07-05  2.605  2.598  2.610  2.582\n2016-07-06  2.596  2.650  2.660  2.596\n2016-07-07  2.650  2.650  2.679  2.637\n...           ...    ...    ...    ...\n2020-06-09  2.818  2.810  2.834  2.782\n2020-06-10  2.816  2.796  2.827  2.771\n2020-06-11  2.789  2.733  2.803  2.727\n2020-06-15  2.718  2.741  2.765  2.672\n2020-06-16  2.773  2.790  2.800  2.760\n\n[1000 rows x 4 columns]",
      "text/html": "<div>\n<style scoped>\n    .dataframe tbody tr th:only-of-type {\n        vertical-align: middle;\n    }\n\n    .dataframe tbody tr th {\n        vertical-align: top;\n    }\n\n    .dataframe thead th {\n        text-align: right;\n    }\n</style>\n<table border=\"1\" class=\"dataframe\">\n  <thead>\n    <tr style=\"text-align: right;\">\n      <th></th>\n      <th>open</th>\n      <th>close</th>\n      <th>high</th>\n      <th>low</th>\n    </tr>\n    <tr>\n      <th>Date</th>\n      <th></th>\n      <th></th>\n      <th></th>\n      <th></th>\n    </tr>\n  </thead>\n  <tbody>\n    <tr>\n      <th>2016-07-01</th>\n      <td>2.598</td>\n      <td>2.604</td>\n      <td>2.619</td>\n      <td>2.510</td>\n    </tr>\n    <tr>\n      <th>2016-07-04</th>\n      <td>2.604</td>\n      <td>2.608</td>\n      <td>2.619</td>\n      <td>2.600</td>\n    </tr>\n    <tr>\n      <th>2016-07-05</th>\n      <td>2.605</td>\n      <td>2.598</td>\n      <td>2.610</td>\n      <td>2.582</td>\n    </tr>\n    <tr>\n      <th>2016-07-06</th>\n      <td>2.596</td>\n      <td>2.650</td>\n      <td>2.660</td>\n      <td>2.596</td>\n    </tr>\n    <tr>\n      <th>2016-07-07</th>\n      <td>2.650</td>\n      <td>2.650</td>\n      <td>2.679</td>\n      <td>2.637</td>\n    </tr>\n    <tr>\n      <th>...</th>\n      <td>...</td>\n      <td>...</td>\n      <td>...</td>\n      <td>...</td>\n    </tr>\n    <tr>\n      <th>2020-06-09</th>\n      <td>2.818</td>\n      <td>2.810</td>\n      <td>2.834</td>\n      <td>2.782</td>\n    </tr>\n    <tr>\n      <th>2020-06-10</th>\n      <td>2.816</td>\n      <td>2.796</td>\n      <td>2.827</td>\n      <td>2.771</td>\n    </tr>\n    <tr>\n      <th>2020-06-11</th>\n      <td>2.789</td>\n      <td>2.733</td>\n      <td>2.803</td>\n      <td>2.727</td>\n    </tr>\n    <tr>\n      <th>2020-06-15</th>\n      <td>2.718</td>\n      <td>2.741</td>\n      <td>2.765</td>\n      <td>2.672</td>\n    </tr>\n    <tr>\n      <th>2020-06-16</th>\n      <td>2.773</td>\n      <td>2.790</td>\n      <td>2.800</td>\n      <td>2.760</td>\n    </tr>\n  </tbody>\n</table>\n<p>1000 rows × 4 columns</p>\n</div>"
     },
     "execution_count": 18,
     "metadata": {},
     "output_type": "execute_result"
    }
   ],
   "source": [
    "import mplfinance as mpf\n",
    "import pandas as pd\n",
    "daily = pd.read_csv(\"../csv_files/UPRO.csv\",index_col=0,parse_dates=True)\n",
    "daily.index.name = 'Date'\n",
    "daily.head(1000)"
   ]
  },
  {
   "cell_type": "code",
   "outputs": [
    {
     "data": {
      "text/plain": "0.30000000000000004"
     },
     "execution_count": 1,
     "metadata": {},
     "output_type": "execute_result"
    }
   ],
   "source": [
    "0.1+0.2"
   ],
   "metadata": {
    "collapsed": false,
    "ExecuteTime": {
     "end_time": "2024-01-27T19:53:21.139807400Z",
     "start_time": "2024-01-27T19:53:21.125225500Z"
    }
   },
   "id": "c2380a4135658290",
   "execution_count": 1
  },
  {
   "cell_type": "code",
   "outputs": [],
   "source": [],
   "metadata": {
    "collapsed": false
   },
   "id": "14833e9cd230ae97"
  }
 ],
 "metadata": {
  "kernelspec": {
   "display_name": "Python 3",
   "language": "python",
   "name": "python3"
  },
  "language_info": {
   "codemirror_mode": {
    "name": "ipython",
    "version": 2
   },
   "file_extension": ".py",
   "mimetype": "text/x-python",
   "name": "python",
   "nbconvert_exporter": "python",
   "pygments_lexer": "ipython2",
   "version": "2.7.6"
  }
 },
 "nbformat": 4,
 "nbformat_minor": 5
}
