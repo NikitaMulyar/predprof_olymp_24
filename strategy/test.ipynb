{
 "cells": [
  {
   "cell_type": "code",
   "execution_count": 16,
   "id": "initial_id",
   "metadata": {
    "collapsed": true,
    "ExecuteTime": {
     "end_time": "2024-01-27T11:29:54.454073300Z",
     "start_time": "2024-01-27T11:29:54.414031100Z"
    }
   },
   "outputs": [
    {
     "data": {
      "text/plain": "              open   close    high     low\nDate                                      \n2022-06-14   85.72   85.51   86.33   85.06\n2022-06-15   85.55   85.39   86.00   85.11\n2022-06-16   85.50   87.09   87.59   85.30\n2022-06-17   87.19   86.05   87.45   85.41\n2022-06-20   86.14   88.45   88.83   86.14\n...            ...     ...     ...     ...\n2023-03-20  113.00  113.88  114.15  111.79\n2023-03-21  114.00  112.72  114.45  112.22\n2023-03-22  112.34  113.04  113.63  112.21\n2023-03-23  113.00  112.26  113.40  112.21\n2023-03-24  112.49  112.68  113.40  112.10\n\n[200 rows x 4 columns]",
      "text/html": "<div>\n<style scoped>\n    .dataframe tbody tr th:only-of-type {\n        vertical-align: middle;\n    }\n\n    .dataframe tbody tr th {\n        vertical-align: top;\n    }\n\n    .dataframe thead th {\n        text-align: right;\n    }\n</style>\n<table border=\"1\" class=\"dataframe\">\n  <thead>\n    <tr style=\"text-align: right;\">\n      <th></th>\n      <th>open</th>\n      <th>close</th>\n      <th>high</th>\n      <th>low</th>\n    </tr>\n    <tr>\n      <th>Date</th>\n      <th></th>\n      <th></th>\n      <th></th>\n      <th></th>\n    </tr>\n  </thead>\n  <tbody>\n    <tr>\n      <th>2022-06-14</th>\n      <td>85.72</td>\n      <td>85.51</td>\n      <td>86.33</td>\n      <td>85.06</td>\n    </tr>\n    <tr>\n      <th>2022-06-15</th>\n      <td>85.55</td>\n      <td>85.39</td>\n      <td>86.00</td>\n      <td>85.11</td>\n    </tr>\n    <tr>\n      <th>2022-06-16</th>\n      <td>85.50</td>\n      <td>87.09</td>\n      <td>87.59</td>\n      <td>85.30</td>\n    </tr>\n    <tr>\n      <th>2022-06-17</th>\n      <td>87.19</td>\n      <td>86.05</td>\n      <td>87.45</td>\n      <td>85.41</td>\n    </tr>\n    <tr>\n      <th>2022-06-20</th>\n      <td>86.14</td>\n      <td>88.45</td>\n      <td>88.83</td>\n      <td>86.14</td>\n    </tr>\n    <tr>\n      <th>...</th>\n      <td>...</td>\n      <td>...</td>\n      <td>...</td>\n      <td>...</td>\n    </tr>\n    <tr>\n      <th>2023-03-20</th>\n      <td>113.00</td>\n      <td>113.88</td>\n      <td>114.15</td>\n      <td>111.79</td>\n    </tr>\n    <tr>\n      <th>2023-03-21</th>\n      <td>114.00</td>\n      <td>112.72</td>\n      <td>114.45</td>\n      <td>112.22</td>\n    </tr>\n    <tr>\n      <th>2023-03-22</th>\n      <td>112.34</td>\n      <td>113.04</td>\n      <td>113.63</td>\n      <td>112.21</td>\n    </tr>\n    <tr>\n      <th>2023-03-23</th>\n      <td>113.00</td>\n      <td>112.26</td>\n      <td>113.40</td>\n      <td>112.21</td>\n    </tr>\n    <tr>\n      <th>2023-03-24</th>\n      <td>112.49</td>\n      <td>112.68</td>\n      <td>113.40</td>\n      <td>112.10</td>\n    </tr>\n  </tbody>\n</table>\n<p>200 rows × 4 columns</p>\n</div>"
     },
     "execution_count": 16,
     "metadata": {},
     "output_type": "execute_result"
    }
   ],
   "source": [
    "import mplfinance as mpf\n",
    "import pandas as pd\n",
    "daily = pd.read_csv(\"../csv_files/MOEX.csv\",index_col=0,parse_dates=True)\n",
    "daily.index.name = 'Date'\n",
    "daily.head(200)"
   ]
  },
  {
   "cell_type": "code",
   "outputs": [
    {
     "ename": "TypeError",
     "evalue": "Expect data.index as DatetimeIndex",
     "output_type": "error",
     "traceback": [
      "\u001B[1;31m---------------------------------------------------------------------------\u001B[0m",
      "\u001B[1;31mTypeError\u001B[0m                                 Traceback (most recent call last)",
      "Cell \u001B[1;32mIn[5], line 1\u001B[0m\n\u001B[1;32m----> 1\u001B[0m \u001B[43mmpf\u001B[49m\u001B[38;5;241;43m.\u001B[39;49m\u001B[43mplot\u001B[49m\u001B[43m(\u001B[49m\u001B[43mdaily\u001B[49m\u001B[43m,\u001B[49m\u001B[38;5;28;43mtype\u001B[39;49m\u001B[38;5;241;43m=\u001B[39;49m\u001B[38;5;124;43m'\u001B[39;49m\u001B[38;5;124;43mcandle\u001B[39;49m\u001B[38;5;124;43m'\u001B[39;49m\u001B[43m)\u001B[49m\n",
      "File \u001B[1;32m~\\PycharmProjects\\predprof\\.venv\\Lib\\site-packages\\mplfinance\\plotting.py:417\u001B[0m, in \u001B[0;36mplot\u001B[1;34m(data, **kwargs)\u001B[0m\n\u001B[0;32m    414\u001B[0m \u001B[38;5;66;03m# translate alias types:\u001B[39;00m\n\u001B[0;32m    415\u001B[0m config[\u001B[38;5;124m'\u001B[39m\u001B[38;5;124mtype\u001B[39m\u001B[38;5;124m'\u001B[39m] \u001B[38;5;241m=\u001B[39m _get_valid_plot_types(config[\u001B[38;5;124m'\u001B[39m\u001B[38;5;124mtype\u001B[39m\u001B[38;5;124m'\u001B[39m])\n\u001B[1;32m--> 417\u001B[0m dates,opens,highs,lows,closes,volumes \u001B[38;5;241m=\u001B[39m \u001B[43m_check_and_prepare_data\u001B[49m\u001B[43m(\u001B[49m\u001B[43mdata\u001B[49m\u001B[43m,\u001B[49m\u001B[43m \u001B[49m\u001B[43mconfig\u001B[49m\u001B[43m)\u001B[49m\n\u001B[0;32m    419\u001B[0m config[\u001B[38;5;124m'\u001B[39m\u001B[38;5;124mxlim\u001B[39m\u001B[38;5;124m'\u001B[39m] \u001B[38;5;241m=\u001B[39m _check_and_convert_xlim_configuration(data, config)\n\u001B[0;32m    421\u001B[0m \u001B[38;5;28;01mif\u001B[39;00m config[\u001B[38;5;124m'\u001B[39m\u001B[38;5;124mtype\u001B[39m\u001B[38;5;124m'\u001B[39m] \u001B[38;5;129;01min\u001B[39;00m VALID_PMOVE_TYPES \u001B[38;5;129;01mand\u001B[39;00m config[\u001B[38;5;124m'\u001B[39m\u001B[38;5;124maddplot\u001B[39m\u001B[38;5;124m'\u001B[39m] \u001B[38;5;129;01mis\u001B[39;00m \u001B[38;5;129;01mnot\u001B[39;00m \u001B[38;5;28;01mNone\u001B[39;00m:\n",
      "File \u001B[1;32m~\\PycharmProjects\\predprof\\.venv\\Lib\\site-packages\\mplfinance\\_arg_validators.py:32\u001B[0m, in \u001B[0;36m_check_and_prepare_data\u001B[1;34m(data, config)\u001B[0m\n\u001B[0;32m     29\u001B[0m     \u001B[38;5;28;01mraise\u001B[39;00m \u001B[38;5;167;01mTypeError\u001B[39;00m(\u001B[38;5;124m'\u001B[39m\u001B[38;5;124mExpect data as DataFrame\u001B[39m\u001B[38;5;124m'\u001B[39m)\n\u001B[0;32m     31\u001B[0m \u001B[38;5;28;01mif\u001B[39;00m \u001B[38;5;129;01mnot\u001B[39;00m \u001B[38;5;28misinstance\u001B[39m(data\u001B[38;5;241m.\u001B[39mindex,pd\u001B[38;5;241m.\u001B[39mcore\u001B[38;5;241m.\u001B[39mindexes\u001B[38;5;241m.\u001B[39mdatetimes\u001B[38;5;241m.\u001B[39mDatetimeIndex):\n\u001B[1;32m---> 32\u001B[0m     \u001B[38;5;28;01mraise\u001B[39;00m \u001B[38;5;167;01mTypeError\u001B[39;00m(\u001B[38;5;124m'\u001B[39m\u001B[38;5;124mExpect data.index as DatetimeIndex\u001B[39m\u001B[38;5;124m'\u001B[39m)\n\u001B[0;32m     34\u001B[0m \u001B[38;5;66;03m# We will not be fully case-insensitive (since Pandas columns as NOT case-insensitive)\u001B[39;00m\n\u001B[0;32m     35\u001B[0m \u001B[38;5;66;03m# but because so many people have requested it, for the default column names we will\u001B[39;00m\n\u001B[0;32m     36\u001B[0m \u001B[38;5;66;03m# try both Capitalized and lower case:\u001B[39;00m\n\u001B[0;32m     37\u001B[0m columns \u001B[38;5;241m=\u001B[39m config[\u001B[38;5;124m'\u001B[39m\u001B[38;5;124mcolumns\u001B[39m\u001B[38;5;124m'\u001B[39m]\n",
      "\u001B[1;31mTypeError\u001B[0m: Expect data.index as DatetimeIndex"
     ]
    }
   ],
   "source": [],
   "metadata": {
    "collapsed": false,
    "ExecuteTime": {
     "end_time": "2024-01-27T09:20:08.526008900Z",
     "start_time": "2024-01-27T09:20:07.258061200Z"
    }
   },
   "id": "c2380a4135658290",
   "execution_count": 5
  },
  {
   "cell_type": "code",
   "outputs": [],
   "source": [],
   "metadata": {
    "collapsed": false
   },
   "id": "14833e9cd230ae97"
  }
 ],
 "metadata": {
  "kernelspec": {
   "display_name": "Python 3",
   "language": "python",
   "name": "python3"
  },
  "language_info": {
   "codemirror_mode": {
    "name": "ipython",
    "version": 2
   },
   "file_extension": ".py",
   "mimetype": "text/x-python",
   "name": "python",
   "nbconvert_exporter": "python",
   "pygments_lexer": "ipython2",
   "version": "2.7.6"
  }
 },
 "nbformat": 4,
 "nbformat_minor": 5
}
