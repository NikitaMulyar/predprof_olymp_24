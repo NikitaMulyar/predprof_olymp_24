{
 "cells": [
  {
   "cell_type": "code",
   "execution_count": 17,
   "id": "initial_id",
   "metadata": {
    "collapsed": true,
    "ExecuteTime": {
     "end_time": "2024-01-27T13:39:04.328574400Z",
     "start_time": "2024-01-27T13:39:04.291656700Z"
    }
   },
   "outputs": [
    {
     "data": {
      "text/plain": "             open  close   high    low\nDate                                  \n2021-03-15  2.836  2.972  2.981  2.836\n2021-03-16  2.986  2.922  2.990  2.906\n2021-03-17  2.920  2.944  2.979  2.915\n2021-03-18  2.950  2.922  3.004  2.906\n2021-03-19  2.914  2.950  2.968  2.912\n...           ...    ...    ...    ...\n2021-07-27  2.710  2.734  2.741  2.710\n2021-07-28  2.740  2.767  2.809  2.736\n2021-07-29  2.783  2.750  2.787  2.750\n2021-07-30  2.750  2.741  2.766  2.741\n2021-08-02  2.768  2.741  2.768  2.740\n\n[100 rows x 4 columns]",
      "text/html": "<div>\n<style scoped>\n    .dataframe tbody tr th:only-of-type {\n        vertical-align: middle;\n    }\n\n    .dataframe tbody tr th {\n        vertical-align: top;\n    }\n\n    .dataframe thead th {\n        text-align: right;\n    }\n</style>\n<table border=\"1\" class=\"dataframe\">\n  <thead>\n    <tr style=\"text-align: right;\">\n      <th></th>\n      <th>open</th>\n      <th>close</th>\n      <th>high</th>\n      <th>low</th>\n    </tr>\n    <tr>\n      <th>Date</th>\n      <th></th>\n      <th></th>\n      <th></th>\n      <th></th>\n    </tr>\n  </thead>\n  <tbody>\n    <tr>\n      <th>2021-03-15</th>\n      <td>2.836</td>\n      <td>2.972</td>\n      <td>2.981</td>\n      <td>2.836</td>\n    </tr>\n    <tr>\n      <th>2021-03-16</th>\n      <td>2.986</td>\n      <td>2.922</td>\n      <td>2.990</td>\n      <td>2.906</td>\n    </tr>\n    <tr>\n      <th>2021-03-17</th>\n      <td>2.920</td>\n      <td>2.944</td>\n      <td>2.979</td>\n      <td>2.915</td>\n    </tr>\n    <tr>\n      <th>2021-03-18</th>\n      <td>2.950</td>\n      <td>2.922</td>\n      <td>3.004</td>\n      <td>2.906</td>\n    </tr>\n    <tr>\n      <th>2021-03-19</th>\n      <td>2.914</td>\n      <td>2.950</td>\n      <td>2.968</td>\n      <td>2.912</td>\n    </tr>\n    <tr>\n      <th>...</th>\n      <td>...</td>\n      <td>...</td>\n      <td>...</td>\n      <td>...</td>\n    </tr>\n    <tr>\n      <th>2021-07-27</th>\n      <td>2.710</td>\n      <td>2.734</td>\n      <td>2.741</td>\n      <td>2.710</td>\n    </tr>\n    <tr>\n      <th>2021-07-28</th>\n      <td>2.740</td>\n      <td>2.767</td>\n      <td>2.809</td>\n      <td>2.736</td>\n    </tr>\n    <tr>\n      <th>2021-07-29</th>\n      <td>2.783</td>\n      <td>2.750</td>\n      <td>2.787</td>\n      <td>2.750</td>\n    </tr>\n    <tr>\n      <th>2021-07-30</th>\n      <td>2.750</td>\n      <td>2.741</td>\n      <td>2.766</td>\n      <td>2.741</td>\n    </tr>\n    <tr>\n      <th>2021-08-02</th>\n      <td>2.768</td>\n      <td>2.741</td>\n      <td>2.768</td>\n      <td>2.740</td>\n    </tr>\n  </tbody>\n</table>\n<p>100 rows × 4 columns</p>\n</div>"
     },
     "execution_count": 17,
     "metadata": {},
     "output_type": "execute_result"
    }
   ],
   "source": [
    "import mplfinance as mpf\n",
    "import pandas as pd\n",
    "daily = pd.read_csv(\"../csv_files/UPRO.csv\",index_col=0,parse_dates=True)\n",
    "daily.index.name = 'Date'\n",
    "daily.head(100)"
   ]
  },
  {
   "cell_type": "code",
   "outputs": [
    {
     "ename": "TypeError",
     "evalue": "Expect data.index as DatetimeIndex",
     "output_type": "error",
     "traceback": [
      "\u001B[1;31m---------------------------------------------------------------------------\u001B[0m",
      "\u001B[1;31mTypeError\u001B[0m                                 Traceback (most recent call last)",
      "Cell \u001B[1;32mIn[5], line 1\u001B[0m\n\u001B[1;32m----> 1\u001B[0m \u001B[43mmpf\u001B[49m\u001B[38;5;241;43m.\u001B[39;49m\u001B[43mplot\u001B[49m\u001B[43m(\u001B[49m\u001B[43mdaily\u001B[49m\u001B[43m,\u001B[49m\u001B[38;5;28;43mtype\u001B[39;49m\u001B[38;5;241;43m=\u001B[39;49m\u001B[38;5;124;43m'\u001B[39;49m\u001B[38;5;124;43mcandle\u001B[39;49m\u001B[38;5;124;43m'\u001B[39;49m\u001B[43m)\u001B[49m\n",
      "File \u001B[1;32m~\\PycharmProjects\\predprof\\.venv\\Lib\\site-packages\\mplfinance\\plotting.py:417\u001B[0m, in \u001B[0;36mplot\u001B[1;34m(data, **kwargs)\u001B[0m\n\u001B[0;32m    414\u001B[0m \u001B[38;5;66;03m# translate alias types:\u001B[39;00m\n\u001B[0;32m    415\u001B[0m config[\u001B[38;5;124m'\u001B[39m\u001B[38;5;124mtype\u001B[39m\u001B[38;5;124m'\u001B[39m] \u001B[38;5;241m=\u001B[39m _get_valid_plot_types(config[\u001B[38;5;124m'\u001B[39m\u001B[38;5;124mtype\u001B[39m\u001B[38;5;124m'\u001B[39m])\n\u001B[1;32m--> 417\u001B[0m dates,opens,highs,lows,closes,volumes \u001B[38;5;241m=\u001B[39m \u001B[43m_check_and_prepare_data\u001B[49m\u001B[43m(\u001B[49m\u001B[43mdata\u001B[49m\u001B[43m,\u001B[49m\u001B[43m \u001B[49m\u001B[43mconfig\u001B[49m\u001B[43m)\u001B[49m\n\u001B[0;32m    419\u001B[0m config[\u001B[38;5;124m'\u001B[39m\u001B[38;5;124mxlim\u001B[39m\u001B[38;5;124m'\u001B[39m] \u001B[38;5;241m=\u001B[39m _check_and_convert_xlim_configuration(data, config)\n\u001B[0;32m    421\u001B[0m \u001B[38;5;28;01mif\u001B[39;00m config[\u001B[38;5;124m'\u001B[39m\u001B[38;5;124mtype\u001B[39m\u001B[38;5;124m'\u001B[39m] \u001B[38;5;129;01min\u001B[39;00m VALID_PMOVE_TYPES \u001B[38;5;129;01mand\u001B[39;00m config[\u001B[38;5;124m'\u001B[39m\u001B[38;5;124maddplot\u001B[39m\u001B[38;5;124m'\u001B[39m] \u001B[38;5;129;01mis\u001B[39;00m \u001B[38;5;129;01mnot\u001B[39;00m \u001B[38;5;28;01mNone\u001B[39;00m:\n",
      "File \u001B[1;32m~\\PycharmProjects\\predprof\\.venv\\Lib\\site-packages\\mplfinance\\_arg_validators.py:32\u001B[0m, in \u001B[0;36m_check_and_prepare_data\u001B[1;34m(data, config)\u001B[0m\n\u001B[0;32m     29\u001B[0m     \u001B[38;5;28;01mraise\u001B[39;00m \u001B[38;5;167;01mTypeError\u001B[39;00m(\u001B[38;5;124m'\u001B[39m\u001B[38;5;124mExpect data as DataFrame\u001B[39m\u001B[38;5;124m'\u001B[39m)\n\u001B[0;32m     31\u001B[0m \u001B[38;5;28;01mif\u001B[39;00m \u001B[38;5;129;01mnot\u001B[39;00m \u001B[38;5;28misinstance\u001B[39m(data\u001B[38;5;241m.\u001B[39mindex,pd\u001B[38;5;241m.\u001B[39mcore\u001B[38;5;241m.\u001B[39mindexes\u001B[38;5;241m.\u001B[39mdatetimes\u001B[38;5;241m.\u001B[39mDatetimeIndex):\n\u001B[1;32m---> 32\u001B[0m     \u001B[38;5;28;01mraise\u001B[39;00m \u001B[38;5;167;01mTypeError\u001B[39;00m(\u001B[38;5;124m'\u001B[39m\u001B[38;5;124mExpect data.index as DatetimeIndex\u001B[39m\u001B[38;5;124m'\u001B[39m)\n\u001B[0;32m     34\u001B[0m \u001B[38;5;66;03m# We will not be fully case-insensitive (since Pandas columns as NOT case-insensitive)\u001B[39;00m\n\u001B[0;32m     35\u001B[0m \u001B[38;5;66;03m# but because so many people have requested it, for the default column names we will\u001B[39;00m\n\u001B[0;32m     36\u001B[0m \u001B[38;5;66;03m# try both Capitalized and lower case:\u001B[39;00m\n\u001B[0;32m     37\u001B[0m columns \u001B[38;5;241m=\u001B[39m config[\u001B[38;5;124m'\u001B[39m\u001B[38;5;124mcolumns\u001B[39m\u001B[38;5;124m'\u001B[39m]\n",
      "\u001B[1;31mTypeError\u001B[0m: Expect data.index as DatetimeIndex"
     ]
    }
   ],
   "source": [],
   "metadata": {
    "collapsed": false,
    "ExecuteTime": {
     "end_time": "2024-01-27T09:20:08.526008900Z",
     "start_time": "2024-01-27T09:20:07.258061200Z"
    }
   },
   "id": "c2380a4135658290",
   "execution_count": 5
  },
  {
   "cell_type": "code",
   "outputs": [],
   "source": [],
   "metadata": {
    "collapsed": false
   },
   "id": "14833e9cd230ae97"
  }
 ],
 "metadata": {
  "kernelspec": {
   "display_name": "Python 3",
   "language": "python",
   "name": "python3"
  },
  "language_info": {
   "codemirror_mode": {
    "name": "ipython",
    "version": 2
   },
   "file_extension": ".py",
   "mimetype": "text/x-python",
   "name": "python",
   "nbconvert_exporter": "python",
   "pygments_lexer": "ipython2",
   "version": "2.7.6"
  }
 },
 "nbformat": 4,
 "nbformat_minor": 5
}
