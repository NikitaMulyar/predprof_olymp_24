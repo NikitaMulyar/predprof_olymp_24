{
 "cells": [
  {
   "cell_type": "code",
   "execution_count": 15,
   "id": "initial_id",
   "metadata": {
    "collapsed": true,
    "ExecuteTime": {
     "end_time": "2024-01-27T10:32:58.420703900Z",
     "start_time": "2024-01-27T10:32:58.371075700Z"
    }
   },
   "outputs": [
    {
     "data": {
      "text/plain": "              open   close    high     low         value      volume  \\\nDate                                                                   \n2022-12-28  139.73  139.51  140.40  138.60  3.911971e+09  28045010.0   \n2022-12-29  139.50  140.96  141.65  139.22  4.513089e+09  32059860.0   \n2022-12-30  140.80  141.15  141.48  140.13  3.968971e+09  28175080.0   \n2023-01-03  141.60  141.78  143.25  141.56  3.000248e+09  21098550.0   \n2023-01-04  141.85  141.43  142.28  140.75  2.419429e+09  17112740.0   \n...            ...     ...     ...     ...           ...         ...   \n2023-10-05  260.70  259.38  261.39  258.26  6.111705e+09  23501620.0   \n2023-10-06  259.77  262.93  263.40  257.86  8.338547e+09  32001280.0   \n2023-10-09  263.00  265.25  265.97  263.00  1.203676e+10  45447720.0   \n2023-10-10  264.89  263.00  265.18  257.00  8.962447e+09  34001290.0   \n2023-10-11  263.30  260.21  263.99  259.50  7.743001e+09  29495790.0   \n\n                            end  \nDate                             \n2022-12-28  2022-12-28 23:59:59  \n2022-12-29  2022-12-29 23:59:59  \n2022-12-30  2022-12-30 23:59:59  \n2023-01-03  2023-01-03 23:59:59  \n2023-01-04  2023-01-04 23:59:59  \n...                         ...  \n2023-10-05  2023-10-05 23:59:59  \n2023-10-06  2023-10-06 23:59:59  \n2023-10-09  2023-10-09 23:59:59  \n2023-10-10  2023-10-10 23:59:59  \n2023-10-11  2023-10-11 23:59:59  \n\n[200 rows x 7 columns]",
      "text/html": "<div>\n<style scoped>\n    .dataframe tbody tr th:only-of-type {\n        vertical-align: middle;\n    }\n\n    .dataframe tbody tr th {\n        vertical-align: top;\n    }\n\n    .dataframe thead th {\n        text-align: right;\n    }\n</style>\n<table border=\"1\" class=\"dataframe\">\n  <thead>\n    <tr style=\"text-align: right;\">\n      <th></th>\n      <th>open</th>\n      <th>close</th>\n      <th>high</th>\n      <th>low</th>\n      <th>value</th>\n      <th>volume</th>\n      <th>end</th>\n    </tr>\n    <tr>\n      <th>Date</th>\n      <th></th>\n      <th></th>\n      <th></th>\n      <th></th>\n      <th></th>\n      <th></th>\n      <th></th>\n    </tr>\n  </thead>\n  <tbody>\n    <tr>\n      <th>2022-12-28</th>\n      <td>139.73</td>\n      <td>139.51</td>\n      <td>140.40</td>\n      <td>138.60</td>\n      <td>3.911971e+09</td>\n      <td>28045010.0</td>\n      <td>2022-12-28 23:59:59</td>\n    </tr>\n    <tr>\n      <th>2022-12-29</th>\n      <td>139.50</td>\n      <td>140.96</td>\n      <td>141.65</td>\n      <td>139.22</td>\n      <td>4.513089e+09</td>\n      <td>32059860.0</td>\n      <td>2022-12-29 23:59:59</td>\n    </tr>\n    <tr>\n      <th>2022-12-30</th>\n      <td>140.80</td>\n      <td>141.15</td>\n      <td>141.48</td>\n      <td>140.13</td>\n      <td>3.968971e+09</td>\n      <td>28175080.0</td>\n      <td>2022-12-30 23:59:59</td>\n    </tr>\n    <tr>\n      <th>2023-01-03</th>\n      <td>141.60</td>\n      <td>141.78</td>\n      <td>143.25</td>\n      <td>141.56</td>\n      <td>3.000248e+09</td>\n      <td>21098550.0</td>\n      <td>2023-01-03 23:59:59</td>\n    </tr>\n    <tr>\n      <th>2023-01-04</th>\n      <td>141.85</td>\n      <td>141.43</td>\n      <td>142.28</td>\n      <td>140.75</td>\n      <td>2.419429e+09</td>\n      <td>17112740.0</td>\n      <td>2023-01-04 23:59:59</td>\n    </tr>\n    <tr>\n      <th>...</th>\n      <td>...</td>\n      <td>...</td>\n      <td>...</td>\n      <td>...</td>\n      <td>...</td>\n      <td>...</td>\n      <td>...</td>\n    </tr>\n    <tr>\n      <th>2023-10-05</th>\n      <td>260.70</td>\n      <td>259.38</td>\n      <td>261.39</td>\n      <td>258.26</td>\n      <td>6.111705e+09</td>\n      <td>23501620.0</td>\n      <td>2023-10-05 23:59:59</td>\n    </tr>\n    <tr>\n      <th>2023-10-06</th>\n      <td>259.77</td>\n      <td>262.93</td>\n      <td>263.40</td>\n      <td>257.86</td>\n      <td>8.338547e+09</td>\n      <td>32001280.0</td>\n      <td>2023-10-06 23:59:59</td>\n    </tr>\n    <tr>\n      <th>2023-10-09</th>\n      <td>263.00</td>\n      <td>265.25</td>\n      <td>265.97</td>\n      <td>263.00</td>\n      <td>1.203676e+10</td>\n      <td>45447720.0</td>\n      <td>2023-10-09 23:59:59</td>\n    </tr>\n    <tr>\n      <th>2023-10-10</th>\n      <td>264.89</td>\n      <td>263.00</td>\n      <td>265.18</td>\n      <td>257.00</td>\n      <td>8.962447e+09</td>\n      <td>34001290.0</td>\n      <td>2023-10-10 23:59:59</td>\n    </tr>\n    <tr>\n      <th>2023-10-11</th>\n      <td>263.30</td>\n      <td>260.21</td>\n      <td>263.99</td>\n      <td>259.50</td>\n      <td>7.743001e+09</td>\n      <td>29495790.0</td>\n      <td>2023-10-11 23:59:59</td>\n    </tr>\n  </tbody>\n</table>\n<p>200 rows × 7 columns</p>\n</div>"
     },
     "execution_count": 15,
     "metadata": {},
     "output_type": "execute_result"
    }
   ],
   "source": [
    "import mplfinance as mpf\n",
    "import pandas as pd\n",
    "daily = pd.read_csv(\"../csv_files/SBER.csv\",index_col=0,parse_dates=True)\n",
    "daily.index.name = 'Date'\n",
    "daily.head(200)"
   ]
  },
  {
   "cell_type": "code",
   "outputs": [
    {
     "ename": "TypeError",
     "evalue": "Expect data.index as DatetimeIndex",
     "output_type": "error",
     "traceback": [
      "\u001B[1;31m---------------------------------------------------------------------------\u001B[0m",
      "\u001B[1;31mTypeError\u001B[0m                                 Traceback (most recent call last)",
      "Cell \u001B[1;32mIn[5], line 1\u001B[0m\n\u001B[1;32m----> 1\u001B[0m \u001B[43mmpf\u001B[49m\u001B[38;5;241;43m.\u001B[39;49m\u001B[43mplot\u001B[49m\u001B[43m(\u001B[49m\u001B[43mdaily\u001B[49m\u001B[43m,\u001B[49m\u001B[38;5;28;43mtype\u001B[39;49m\u001B[38;5;241;43m=\u001B[39;49m\u001B[38;5;124;43m'\u001B[39;49m\u001B[38;5;124;43mcandle\u001B[39;49m\u001B[38;5;124;43m'\u001B[39;49m\u001B[43m)\u001B[49m\n",
      "File \u001B[1;32m~\\PycharmProjects\\predprof\\.venv\\Lib\\site-packages\\mplfinance\\plotting.py:417\u001B[0m, in \u001B[0;36mplot\u001B[1;34m(data, **kwargs)\u001B[0m\n\u001B[0;32m    414\u001B[0m \u001B[38;5;66;03m# translate alias types:\u001B[39;00m\n\u001B[0;32m    415\u001B[0m config[\u001B[38;5;124m'\u001B[39m\u001B[38;5;124mtype\u001B[39m\u001B[38;5;124m'\u001B[39m] \u001B[38;5;241m=\u001B[39m _get_valid_plot_types(config[\u001B[38;5;124m'\u001B[39m\u001B[38;5;124mtype\u001B[39m\u001B[38;5;124m'\u001B[39m])\n\u001B[1;32m--> 417\u001B[0m dates,opens,highs,lows,closes,volumes \u001B[38;5;241m=\u001B[39m \u001B[43m_check_and_prepare_data\u001B[49m\u001B[43m(\u001B[49m\u001B[43mdata\u001B[49m\u001B[43m,\u001B[49m\u001B[43m \u001B[49m\u001B[43mconfig\u001B[49m\u001B[43m)\u001B[49m\n\u001B[0;32m    419\u001B[0m config[\u001B[38;5;124m'\u001B[39m\u001B[38;5;124mxlim\u001B[39m\u001B[38;5;124m'\u001B[39m] \u001B[38;5;241m=\u001B[39m _check_and_convert_xlim_configuration(data, config)\n\u001B[0;32m    421\u001B[0m \u001B[38;5;28;01mif\u001B[39;00m config[\u001B[38;5;124m'\u001B[39m\u001B[38;5;124mtype\u001B[39m\u001B[38;5;124m'\u001B[39m] \u001B[38;5;129;01min\u001B[39;00m VALID_PMOVE_TYPES \u001B[38;5;129;01mand\u001B[39;00m config[\u001B[38;5;124m'\u001B[39m\u001B[38;5;124maddplot\u001B[39m\u001B[38;5;124m'\u001B[39m] \u001B[38;5;129;01mis\u001B[39;00m \u001B[38;5;129;01mnot\u001B[39;00m \u001B[38;5;28;01mNone\u001B[39;00m:\n",
      "File \u001B[1;32m~\\PycharmProjects\\predprof\\.venv\\Lib\\site-packages\\mplfinance\\_arg_validators.py:32\u001B[0m, in \u001B[0;36m_check_and_prepare_data\u001B[1;34m(data, config)\u001B[0m\n\u001B[0;32m     29\u001B[0m     \u001B[38;5;28;01mraise\u001B[39;00m \u001B[38;5;167;01mTypeError\u001B[39;00m(\u001B[38;5;124m'\u001B[39m\u001B[38;5;124mExpect data as DataFrame\u001B[39m\u001B[38;5;124m'\u001B[39m)\n\u001B[0;32m     31\u001B[0m \u001B[38;5;28;01mif\u001B[39;00m \u001B[38;5;129;01mnot\u001B[39;00m \u001B[38;5;28misinstance\u001B[39m(data\u001B[38;5;241m.\u001B[39mindex,pd\u001B[38;5;241m.\u001B[39mcore\u001B[38;5;241m.\u001B[39mindexes\u001B[38;5;241m.\u001B[39mdatetimes\u001B[38;5;241m.\u001B[39mDatetimeIndex):\n\u001B[1;32m---> 32\u001B[0m     \u001B[38;5;28;01mraise\u001B[39;00m \u001B[38;5;167;01mTypeError\u001B[39;00m(\u001B[38;5;124m'\u001B[39m\u001B[38;5;124mExpect data.index as DatetimeIndex\u001B[39m\u001B[38;5;124m'\u001B[39m)\n\u001B[0;32m     34\u001B[0m \u001B[38;5;66;03m# We will not be fully case-insensitive (since Pandas columns as NOT case-insensitive)\u001B[39;00m\n\u001B[0;32m     35\u001B[0m \u001B[38;5;66;03m# but because so many people have requested it, for the default column names we will\u001B[39;00m\n\u001B[0;32m     36\u001B[0m \u001B[38;5;66;03m# try both Capitalized and lower case:\u001B[39;00m\n\u001B[0;32m     37\u001B[0m columns \u001B[38;5;241m=\u001B[39m config[\u001B[38;5;124m'\u001B[39m\u001B[38;5;124mcolumns\u001B[39m\u001B[38;5;124m'\u001B[39m]\n",
      "\u001B[1;31mTypeError\u001B[0m: Expect data.index as DatetimeIndex"
     ]
    }
   ],
   "source": [],
   "metadata": {
    "collapsed": false,
    "ExecuteTime": {
     "end_time": "2024-01-27T09:20:08.526008900Z",
     "start_time": "2024-01-27T09:20:07.258061200Z"
    }
   },
   "id": "c2380a4135658290",
   "execution_count": 5
  },
  {
   "cell_type": "code",
   "outputs": [],
   "source": [],
   "metadata": {
    "collapsed": false
   },
   "id": "14833e9cd230ae97"
  }
 ],
 "metadata": {
  "kernelspec": {
   "display_name": "Python 3",
   "language": "python",
   "name": "python3"
  },
  "language_info": {
   "codemirror_mode": {
    "name": "ipython",
    "version": 2
   },
   "file_extension": ".py",
   "mimetype": "text/x-python",
   "name": "python",
   "nbconvert_exporter": "python",
   "pygments_lexer": "ipython2",
   "version": "2.7.6"
  }
 },
 "nbformat": 4,
 "nbformat_minor": 5
}
