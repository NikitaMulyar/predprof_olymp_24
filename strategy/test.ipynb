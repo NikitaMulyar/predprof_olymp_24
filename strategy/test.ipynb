{
 "cells": [
  {
   "cell_type": "code",
   "execution_count": 7,
   "id": "initial_id",
   "metadata": {
    "collapsed": true,
    "ExecuteTime": {
     "end_time": "2024-01-27T09:20:35.325844300Z",
     "start_time": "2024-01-27T09:20:35.241975800Z"
    }
   },
   "outputs": [
    {
     "name": "stderr",
     "output_type": "stream",
     "text": [
      "C:\\Users\\Xiaomi\\AppData\\Local\\Temp\\ipykernel_10204\\1791721094.py:3: UserWarning: Could not infer format, so each element will be parsed individually, falling back to `dateutil`. To ensure parsing is consistent and as-expected, please specify a format.\n",
      "  daily = pd.read_csv(\"../csv_files/YNDX.csv\",index_col=0,parse_dates=True)\n"
     ]
    },
    {
     "data": {
      "text/plain": "                    begin    open   close    high     low         value  \\\nDate                                                                      \n0     2023-10-19 09:00:00  2520.8  2520.8  2520.8  2520.8  1.847746e+06   \n1     2023-10-19 10:00:00  2521.4  2581.6  2594.8  2517.0  1.558876e+09   \n2     2023-10-19 11:00:00  2581.4  2589.8  2599.0  2579.0  6.824923e+08   \n3     2023-10-19 12:00:00  2589.6  2611.4  2612.0  2586.6  7.271155e+08   \n4     2023-10-19 13:00:00  2611.2  2642.0  2642.0  2611.0  1.469663e+09   \n...                   ...     ...     ...     ...     ...           ...   \n95    2023-10-27 14:00:00  2649.8  2657.2  2678.4  2620.0  1.057006e+09   \n96    2023-10-27 15:00:00  2657.2  2676.8  2677.4  2647.8  2.676601e+08   \n97    2023-10-27 16:00:00  2675.8  2694.6  2709.4  2671.0  4.921419e+08   \n98    2023-10-27 17:00:00  2695.0  2684.8  2699.0  2680.6  1.329910e+08   \n99    2023-10-27 18:00:00  2684.8  2676.0  2691.0  2675.2  1.555331e+08   \n\n        volume                  end  \nDate                                 \n0        733.0  2023-10-19 09:59:59  \n1     607020.0  2023-10-19 10:59:59  \n2     263385.0  2023-10-19 11:59:59  \n3     279276.0  2023-10-19 12:59:59  \n4     559511.0  2023-10-19 13:59:59  \n...        ...                  ...  \n95    398777.0  2023-10-27 14:59:59  \n96    100454.0  2023-10-27 15:59:59  \n97    182949.0  2023-10-27 16:59:59  \n98     49430.0  2023-10-27 17:59:59  \n99     57946.0  2023-10-27 18:59:59  \n\n[100 rows x 8 columns]",
      "text/html": "<div>\n<style scoped>\n    .dataframe tbody tr th:only-of-type {\n        vertical-align: middle;\n    }\n\n    .dataframe tbody tr th {\n        vertical-align: top;\n    }\n\n    .dataframe thead th {\n        text-align: right;\n    }\n</style>\n<table border=\"1\" class=\"dataframe\">\n  <thead>\n    <tr style=\"text-align: right;\">\n      <th></th>\n      <th>begin</th>\n      <th>open</th>\n      <th>close</th>\n      <th>high</th>\n      <th>low</th>\n      <th>value</th>\n      <th>volume</th>\n      <th>end</th>\n    </tr>\n    <tr>\n      <th>Date</th>\n      <th></th>\n      <th></th>\n      <th></th>\n      <th></th>\n      <th></th>\n      <th></th>\n      <th></th>\n      <th></th>\n    </tr>\n  </thead>\n  <tbody>\n    <tr>\n      <th>0</th>\n      <td>2023-10-19 09:00:00</td>\n      <td>2520.8</td>\n      <td>2520.8</td>\n      <td>2520.8</td>\n      <td>2520.8</td>\n      <td>1.847746e+06</td>\n      <td>733.0</td>\n      <td>2023-10-19 09:59:59</td>\n    </tr>\n    <tr>\n      <th>1</th>\n      <td>2023-10-19 10:00:00</td>\n      <td>2521.4</td>\n      <td>2581.6</td>\n      <td>2594.8</td>\n      <td>2517.0</td>\n      <td>1.558876e+09</td>\n      <td>607020.0</td>\n      <td>2023-10-19 10:59:59</td>\n    </tr>\n    <tr>\n      <th>2</th>\n      <td>2023-10-19 11:00:00</td>\n      <td>2581.4</td>\n      <td>2589.8</td>\n      <td>2599.0</td>\n      <td>2579.0</td>\n      <td>6.824923e+08</td>\n      <td>263385.0</td>\n      <td>2023-10-19 11:59:59</td>\n    </tr>\n    <tr>\n      <th>3</th>\n      <td>2023-10-19 12:00:00</td>\n      <td>2589.6</td>\n      <td>2611.4</td>\n      <td>2612.0</td>\n      <td>2586.6</td>\n      <td>7.271155e+08</td>\n      <td>279276.0</td>\n      <td>2023-10-19 12:59:59</td>\n    </tr>\n    <tr>\n      <th>4</th>\n      <td>2023-10-19 13:00:00</td>\n      <td>2611.2</td>\n      <td>2642.0</td>\n      <td>2642.0</td>\n      <td>2611.0</td>\n      <td>1.469663e+09</td>\n      <td>559511.0</td>\n      <td>2023-10-19 13:59:59</td>\n    </tr>\n    <tr>\n      <th>...</th>\n      <td>...</td>\n      <td>...</td>\n      <td>...</td>\n      <td>...</td>\n      <td>...</td>\n      <td>...</td>\n      <td>...</td>\n      <td>...</td>\n    </tr>\n    <tr>\n      <th>95</th>\n      <td>2023-10-27 14:00:00</td>\n      <td>2649.8</td>\n      <td>2657.2</td>\n      <td>2678.4</td>\n      <td>2620.0</td>\n      <td>1.057006e+09</td>\n      <td>398777.0</td>\n      <td>2023-10-27 14:59:59</td>\n    </tr>\n    <tr>\n      <th>96</th>\n      <td>2023-10-27 15:00:00</td>\n      <td>2657.2</td>\n      <td>2676.8</td>\n      <td>2677.4</td>\n      <td>2647.8</td>\n      <td>2.676601e+08</td>\n      <td>100454.0</td>\n      <td>2023-10-27 15:59:59</td>\n    </tr>\n    <tr>\n      <th>97</th>\n      <td>2023-10-27 16:00:00</td>\n      <td>2675.8</td>\n      <td>2694.6</td>\n      <td>2709.4</td>\n      <td>2671.0</td>\n      <td>4.921419e+08</td>\n      <td>182949.0</td>\n      <td>2023-10-27 16:59:59</td>\n    </tr>\n    <tr>\n      <th>98</th>\n      <td>2023-10-27 17:00:00</td>\n      <td>2695.0</td>\n      <td>2684.8</td>\n      <td>2699.0</td>\n      <td>2680.6</td>\n      <td>1.329910e+08</td>\n      <td>49430.0</td>\n      <td>2023-10-27 17:59:59</td>\n    </tr>\n    <tr>\n      <th>99</th>\n      <td>2023-10-27 18:00:00</td>\n      <td>2684.8</td>\n      <td>2676.0</td>\n      <td>2691.0</td>\n      <td>2675.2</td>\n      <td>1.555331e+08</td>\n      <td>57946.0</td>\n      <td>2023-10-27 18:59:59</td>\n    </tr>\n  </tbody>\n</table>\n<p>100 rows × 8 columns</p>\n</div>"
     },
     "execution_count": 7,
     "metadata": {},
     "output_type": "execute_result"
    }
   ],
   "source": [
    "import mplfinance as mpf\n",
    "import pandas as pd\n",
    "daily = pd.read_csv(\"../csv_files/YNDX.csv\",index_col=0,parse_dates=True)\n",
    "daily.index.name = 'Date'\n",
    "daily.tail(100)"
   ]
  },
  {
   "cell_type": "code",
   "outputs": [
    {
     "ename": "TypeError",
     "evalue": "Expect data.index as DatetimeIndex",
     "output_type": "error",
     "traceback": [
      "\u001B[1;31m---------------------------------------------------------------------------\u001B[0m",
      "\u001B[1;31mTypeError\u001B[0m                                 Traceback (most recent call last)",
      "Cell \u001B[1;32mIn[5], line 1\u001B[0m\n\u001B[1;32m----> 1\u001B[0m \u001B[43mmpf\u001B[49m\u001B[38;5;241;43m.\u001B[39;49m\u001B[43mplot\u001B[49m\u001B[43m(\u001B[49m\u001B[43mdaily\u001B[49m\u001B[43m,\u001B[49m\u001B[38;5;28;43mtype\u001B[39;49m\u001B[38;5;241;43m=\u001B[39;49m\u001B[38;5;124;43m'\u001B[39;49m\u001B[38;5;124;43mcandle\u001B[39;49m\u001B[38;5;124;43m'\u001B[39;49m\u001B[43m)\u001B[49m\n",
      "File \u001B[1;32m~\\PycharmProjects\\predprof\\.venv\\Lib\\site-packages\\mplfinance\\plotting.py:417\u001B[0m, in \u001B[0;36mplot\u001B[1;34m(data, **kwargs)\u001B[0m\n\u001B[0;32m    414\u001B[0m \u001B[38;5;66;03m# translate alias types:\u001B[39;00m\n\u001B[0;32m    415\u001B[0m config[\u001B[38;5;124m'\u001B[39m\u001B[38;5;124mtype\u001B[39m\u001B[38;5;124m'\u001B[39m] \u001B[38;5;241m=\u001B[39m _get_valid_plot_types(config[\u001B[38;5;124m'\u001B[39m\u001B[38;5;124mtype\u001B[39m\u001B[38;5;124m'\u001B[39m])\n\u001B[1;32m--> 417\u001B[0m dates,opens,highs,lows,closes,volumes \u001B[38;5;241m=\u001B[39m \u001B[43m_check_and_prepare_data\u001B[49m\u001B[43m(\u001B[49m\u001B[43mdata\u001B[49m\u001B[43m,\u001B[49m\u001B[43m \u001B[49m\u001B[43mconfig\u001B[49m\u001B[43m)\u001B[49m\n\u001B[0;32m    419\u001B[0m config[\u001B[38;5;124m'\u001B[39m\u001B[38;5;124mxlim\u001B[39m\u001B[38;5;124m'\u001B[39m] \u001B[38;5;241m=\u001B[39m _check_and_convert_xlim_configuration(data, config)\n\u001B[0;32m    421\u001B[0m \u001B[38;5;28;01mif\u001B[39;00m config[\u001B[38;5;124m'\u001B[39m\u001B[38;5;124mtype\u001B[39m\u001B[38;5;124m'\u001B[39m] \u001B[38;5;129;01min\u001B[39;00m VALID_PMOVE_TYPES \u001B[38;5;129;01mand\u001B[39;00m config[\u001B[38;5;124m'\u001B[39m\u001B[38;5;124maddplot\u001B[39m\u001B[38;5;124m'\u001B[39m] \u001B[38;5;129;01mis\u001B[39;00m \u001B[38;5;129;01mnot\u001B[39;00m \u001B[38;5;28;01mNone\u001B[39;00m:\n",
      "File \u001B[1;32m~\\PycharmProjects\\predprof\\.venv\\Lib\\site-packages\\mplfinance\\_arg_validators.py:32\u001B[0m, in \u001B[0;36m_check_and_prepare_data\u001B[1;34m(data, config)\u001B[0m\n\u001B[0;32m     29\u001B[0m     \u001B[38;5;28;01mraise\u001B[39;00m \u001B[38;5;167;01mTypeError\u001B[39;00m(\u001B[38;5;124m'\u001B[39m\u001B[38;5;124mExpect data as DataFrame\u001B[39m\u001B[38;5;124m'\u001B[39m)\n\u001B[0;32m     31\u001B[0m \u001B[38;5;28;01mif\u001B[39;00m \u001B[38;5;129;01mnot\u001B[39;00m \u001B[38;5;28misinstance\u001B[39m(data\u001B[38;5;241m.\u001B[39mindex,pd\u001B[38;5;241m.\u001B[39mcore\u001B[38;5;241m.\u001B[39mindexes\u001B[38;5;241m.\u001B[39mdatetimes\u001B[38;5;241m.\u001B[39mDatetimeIndex):\n\u001B[1;32m---> 32\u001B[0m     \u001B[38;5;28;01mraise\u001B[39;00m \u001B[38;5;167;01mTypeError\u001B[39;00m(\u001B[38;5;124m'\u001B[39m\u001B[38;5;124mExpect data.index as DatetimeIndex\u001B[39m\u001B[38;5;124m'\u001B[39m)\n\u001B[0;32m     34\u001B[0m \u001B[38;5;66;03m# We will not be fully case-insensitive (since Pandas columns as NOT case-insensitive)\u001B[39;00m\n\u001B[0;32m     35\u001B[0m \u001B[38;5;66;03m# but because so many people have requested it, for the default column names we will\u001B[39;00m\n\u001B[0;32m     36\u001B[0m \u001B[38;5;66;03m# try both Capitalized and lower case:\u001B[39;00m\n\u001B[0;32m     37\u001B[0m columns \u001B[38;5;241m=\u001B[39m config[\u001B[38;5;124m'\u001B[39m\u001B[38;5;124mcolumns\u001B[39m\u001B[38;5;124m'\u001B[39m]\n",
      "\u001B[1;31mTypeError\u001B[0m: Expect data.index as DatetimeIndex"
     ]
    }
   ],
   "source": [],
   "metadata": {
    "collapsed": false,
    "ExecuteTime": {
     "end_time": "2024-01-27T09:20:08.526008900Z",
     "start_time": "2024-01-27T09:20:07.258061200Z"
    }
   },
   "id": "c2380a4135658290",
   "execution_count": 5
  },
  {
   "cell_type": "code",
   "outputs": [],
   "source": [],
   "metadata": {
    "collapsed": false
   },
   "id": "14833e9cd230ae97"
  }
 ],
 "metadata": {
  "kernelspec": {
   "display_name": "Python 3",
   "language": "python",
   "name": "python3"
  },
  "language_info": {
   "codemirror_mode": {
    "name": "ipython",
    "version": 2
   },
   "file_extension": ".py",
   "mimetype": "text/x-python",
   "name": "python",
   "nbconvert_exporter": "python",
   "pygments_lexer": "ipython2",
   "version": "2.7.6"
  }
 },
 "nbformat": 4,
 "nbformat_minor": 5
}
